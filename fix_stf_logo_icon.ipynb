{
 "cells": [
  {
   "cell_type": "code",
   "execution_count": 1,
   "metadata": {},
   "outputs": [
    {
     "name": "stdout",
     "output_type": "stream",
     "text": [
      "Square image saved as images/stf-logo3-square.png with 300 DPI.\n"
     ]
    }
   ],
   "source": [
    "from PIL import Image\n",
    "\n",
    "def make_image_square(input_image_path, output_image_path, target_size=1226, dpi=(300, 300)):\n",
    "    # Open the input image\n",
    "    img = Image.open(input_image_path)\n",
    "    \n",
    "    # Get the current size of the image\n",
    "    width, height = img.size\n",
    "    \n",
    "    # Create a new square image with a transparent background (RGBA mode)\n",
    "    new_img = Image.new(\"RGBA\", (target_size, target_size), (255, 255, 255, 0))\n",
    "    \n",
    "    # Calculate the position to paste the original image in the center\n",
    "    paste_position = ((target_size - width) // 2, 0)  # Center horizontally, no change vertically\n",
    "    \n",
    "    # Resize the original image if its height doesn't match the target height\n",
    "    if height != target_size:\n",
    "        # Maintain aspect ratio when resizing\n",
    "        aspect_ratio = width / height\n",
    "        new_width = int(aspect_ratio * target_size)\n",
    "        img = img.resize((new_width, target_size), Image.ANTIALIAS)\n",
    "        paste_position = ((target_size - new_width) // 2, 0)  # Update the paste position\n",
    "    \n",
    "    # Paste the original image onto the new blank image\n",
    "    new_img.paste(img, paste_position, img)  # Paste with transparency mask\n",
    "    \n",
    "    # Save the result with the specified DPI\n",
    "    new_img.save(output_image_path, format='PNG', dpi=dpi)\n",
    "    print(f\"Square image saved as {output_image_path} with {dpi[0]} DPI.\")\n",
    "\n",
    "# Example usage:\n",
    "input_image_path = 'images/stf-logo3.png'\n",
    "output_image_path = 'images/stf-logo3-square.png'\n",
    "make_image_square(input_image_path, output_image_path)\n"
   ]
  }
 ],
 "metadata": {
  "kernelspec": {
   "display_name": "base",
   "language": "python",
   "name": "python3"
  },
  "language_info": {
   "codemirror_mode": {
    "name": "ipython",
    "version": 3
   },
   "file_extension": ".py",
   "mimetype": "text/x-python",
   "name": "python",
   "nbconvert_exporter": "python",
   "pygments_lexer": "ipython3",
   "version": "3.11.5"
  }
 },
 "nbformat": 4,
 "nbformat_minor": 2
}
